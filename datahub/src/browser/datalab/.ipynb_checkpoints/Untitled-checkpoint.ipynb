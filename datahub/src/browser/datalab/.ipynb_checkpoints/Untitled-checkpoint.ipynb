{
 "cells": [
  {
   "cell_type": "code",
   "execution_count": 3,
   "metadata": {
    "collapsed": false
   },
   "outputs": [
    {
     "name": "stdout",
     "output_type": "stream",
     "text": [
      "10.1.0.192:27017\n",
      "[{u'exp_name': u'test2', u'_id': ObjectId('578c35cb72a843026582a3d0'), u'exp_records': [{u'commit_id': u'7b5a34a5da97648121c6de4105a28af0aa8b50fe', u'src': u'gendermodel.py', u'name': u'Administrator', u'data_set': u'test.csv', u'feature': u'gender', u'param': {u'max_features': 5000, u'n_estimators': 100, u'analyzer': u'word'}, u'time': u'Mon Jul 18 01:50:03 2016', u'out': u'gendermodel.csv', u'type': u'python', u'repo_name': u'test2'}, {u'commit_id': u'64fa9c275ab0343134c77f3d94f100c145ff9abc', u'src': u'gendermodel.py', u'name': u'Administrator', u'data_set': u'test.csv', u'feature': u'gender', u'param': {u'max_features': 5000, u'n_estimators': 100, u'analyzer': u'word'}, u'time': u'Mon Jul 18 02:02:37 2016', u'repo_name': u'test2', u'type': u'python', u'out': u'gendermodel.csv'}, {u'commit_id': u'4c5a3abafdc1984c7952d56acd3cb31c35b3e54e', u'src': u'gendermodel.py', u'name': u'Administrator', u'data_set': u'test.csv', u'feature': u'gender', u'param': {u'max_features': 5000, u'n_estimators': 100, u'analyzer': u'word'}, u'time': u'Mon Jul 18 02:03:03 2016', u'out': u'gendermodel.csv', u'type': u'python', u'repo_name': u'test2'}]}]\n"
     ]
    }
   ],
   "source": [
    "import pymongo\n",
    "from time import asctime\n",
    "import json\n",
    "import os\n",
    "import re\n",
    "import csv\n",
    "    \n",
    "# connect to MongoDB\n",
    "config = json.load(open(\"/home/ubuntu/sandbox/config.json\"))\n",
    "try:\n",
    "    print config[\"mongodb_url\"]\n",
    "    client = pymongo.MongoClient(config[\"mongodb_url\"])\n",
    "except Exception as e:\n",
    "    raise Exception(\"fail to connect to given MongoDB\")\n",
    "experience = client.users\n",
    "Ex_collection = experience.Administrator\n",
    "print list(Ex_collection.find({\"exp_name\" : \"test2\"}))\n",
    "        \n",
    "        "
   ]
  },
  {
   "cell_type": "code",
   "execution_count": 8,
   "metadata": {
    "collapsed": false
   },
   "outputs": [
    {
     "name": "stdout",
     "output_type": "stream",
     "text": [
      "2016_07_28_17_14_18\n"
     ]
    }
   ],
   "source": [
    "import time\n",
    "\n",
    "print time.strftime(\"%Y_%m_%d_%H_%M_%S\",time.localtime(time.time()))"
   ]
  },
  {
   "cell_type": "code",
   "execution_count": 4,
   "metadata": {
    "collapsed": false
   },
   "outputs": [
    {
     "ename": "NameError",
     "evalue": "name 'git_poject_list' is not defined",
     "output_type": "error",
     "traceback": [
      "\u001b[1;31m---------------------------------------------------------------------------\u001b[0m",
      "\u001b[1;31mNameError\u001b[0m                                 Traceback (most recent call last)",
      "\u001b[1;32m<ipython-input-4-fdf9b8dc44fb>\u001b[0m in \u001b[0;36m<module>\u001b[1;34m()\u001b[0m\n\u001b[1;32m----> 1\u001b[1;33m \u001b[1;32mprint\u001b[0m \u001b[0mgit_poject_list\u001b[0m\u001b[1;33m(\u001b[0m\u001b[1;34m\"asdfasdf\"\u001b[0m\u001b[1;33m,\u001b[0m\u001b[1;34m\"youuu\"\u001b[0m\u001b[1;33m)\u001b[0m\u001b[1;33m\u001b[0m\u001b[0m\n\u001b[0m",
      "\u001b[1;31mNameError\u001b[0m: name 'git_poject_list' is not defined"
     ]
    }
   ],
   "source": [
    "print delect_project_record(\"asdfasdf\",\"youuu\")"
   ]
  },
  {
   "cell_type": "code",
   "execution_count": null,
   "metadata": {
    "collapsed": true
   },
   "outputs": [],
   "source": []
  }
 ],
 "metadata": {
  "kernelspec": {
   "display_name": "Python 2",
   "language": "python",
   "name": "python2"
  },
  "language_info": {
   "codemirror_mode": {
    "name": "ipython",
    "version": 2
   },
   "file_extension": ".py",
   "mimetype": "text/x-python",
   "name": "python",
   "nbconvert_exporter": "python",
   "pygments_lexer": "ipython2",
   "version": "2.7.9"
  }
 },
 "nbformat": 4,
 "nbformat_minor": 0
}
