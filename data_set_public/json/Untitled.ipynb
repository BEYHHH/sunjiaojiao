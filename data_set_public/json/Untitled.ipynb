{
 "cells": [
  {
   "cell_type": "code",
   "execution_count": 1,
   "metadata": {
    "collapsed": false
   },
   "outputs": [
    {
     "name": "stdout",
     "output_type": "stream",
     "text": [
      "{u'commit_id': u'566eb4229d3e4db6cfa522142feaae9f373b7773', u'name': u'\\u4e2d\\u6587\\u6d4b\\u8bd5\\u6570\\u636e.csv', u'class': None, u'describe': {u'name': u'\\u7b2c\\u4e00\\u4e2a\\u4e2d\\u6587\\u6587\\u4ef6'}, u'id': u'566eb4229d3e4db6cfa522142feaae9f373b7773_\\u4e2d\\u6587\\u6d4b\\u8bd5\\u6570\\u636e.csv', u'repo': u'youuu', u'short_commit_id': u'566eb4229d3', u'path': u'/home/ubuntu/sunjiaojiao/data_set_public/public_data/566eb4229d3e4db6cfa522142feaae9f373b7773_\\u4e2d\\u6587\\u6d4b\\u8bd5\\u6570\\u636e.csv', u'type': u'csv', u'public': False, u'user': u'sdubeyhhhh'}\n"
     ]
    }
   ],
   "source": [
    "# -*- coding: utf-8 -*-\n",
    "\n",
    "import json\n",
    "f = open(\"566eb4229d3e4db6cfa522142feaae9f373b7773_中文测试数据.csv.json\")\n",
    "dic = json.load(f)\n",
    "print dic"
   ]
  },
  {
   "cell_type": "code",
   "execution_count": null,
   "metadata": {
    "collapsed": true
   },
   "outputs": [],
   "source": []
  }
 ],
 "metadata": {
  "kernelspec": {
   "display_name": "Python 2",
   "language": "python",
   "name": "python2"
  },
  "language_info": {
   "codemirror_mode": {
    "name": "ipython",
    "version": 2
   },
   "file_extension": ".py",
   "mimetype": "text/x-python",
   "name": "python",
   "nbconvert_exporter": "python",
   "pygments_lexer": "ipython2",
   "version": "2.7.9"
  }
 },
 "nbformat": 4,
 "nbformat_minor": 0
}
